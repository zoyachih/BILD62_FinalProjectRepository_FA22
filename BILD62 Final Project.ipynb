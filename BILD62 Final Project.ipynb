{
 "cells": [
  {
   "cell_type": "markdown",
   "id": "b58183ec",
   "metadata": {
    "scrolled": true
   },
   "source": [
    "# Project Description\n",
    "\n",
    "### Analysis of COVID-19 Cases and Demographics\n",
    "* Objective\n",
    "\n",
    "The goal of the program is to analyze statewide COVID-19 death cases by demographics (age and ethnicity), identify patterns in the data, and to create effective data visualization using data from CHHS (California Health and Human Services). \n",
    "\n",
    "* Background\n",
    "\n",
    "As of now, roughly 638 million cases have been reported and around 6.62 million people have died from the coronavirus SARS-CoV-2, more widely known as COVID-19. Respectively, that is almost 8% and 0.08% of the population. Although vaccines and booster shots have now been implemented worldwide and accessible to most, the disease had and continues to have a significant impact on the world. As such, we are interested in analyzing potential trends or patterns within the death cases reported based on age or ethnicity, or both. We believe it is important to analyze the impacts of COVID-19, as it can help effectively prevent and respond to inevitable future pandemics.\n",
    "\n",
    "* Approach\n",
    "\n",
    "The data from CHHS that we are using for this project consists of various categories, including age, ethnicity, case numbers and percentages, death numbers and percentages, percent of California population, as well as the report date of the case. With these values, we would like to first analyze trends by category individually then try to identify any correlations between two or more categories. For instance, we could start with the demographic category of age (separated into 0-17, 18-49, 50-64, 65+) and determine whether death cases and age have a positive relationship (where, as the age increases, the number of death cases increases as well). Then, we could also compare age and death numbers to the report date, which should have increased due to limited hospital space and lack of vaccines at the beginning of the pandemic. We are also interested in seeing the percent in different categories that exceed a certain threshold for case and death numbers. These trends and patterns will be supported by visual representations, including data tables and graphs. \n",
    "\n",
    "* Collaboration Notes\n",
    "\n",
    "Team members: Zoya Chih, Anny Li, Aina Huang\n",
    "\n",
    "We will be using GitHub and Jupyterhub to collaborate on and share the same codebase. With our proposed plan, the tasks can be divided into basic data analysis (i.e. average, minimum/maximum, standard deviation), data comparison and trend or pattern identification (difference/similarity/correlation), and data visualization. With data analysis that builds upon the previous step, it would be more ideal if all members contribute to each task rather than dividing the work by individual steps mentioned previously, as it would provide all members a better understanding of the data prior to comparing data and creating data visualizations. \n",
    "\n",
    "* Works Cited\n",
    "\n",
    "(CHHS data)"
   ]
  },
  {
   "cell_type": "markdown",
   "id": "4961316d",
   "metadata": {},
   "source": [
    "# Project Code"
   ]
  },
  {
   "cell_type": "markdown",
   "id": "c9b4f69a",
   "metadata": {},
   "source": [
    "### Import modules and raw data"
   ]
  },
  {
   "cell_type": "code",
   "execution_count": 1,
   "id": "4b0ef43b",
   "metadata": {},
   "outputs": [],
   "source": [
    "# import packages needed for data manipulation and data visualization\n",
    "import numpy as np\n",
    "import pandas as pd\n",
    "import matplotlib.pyplot as plt\n",
    "import matplotlib as mpl\n",
    "from datetime import date\n",
    "import textwrap\n",
    "%matplotlib inline"
   ]
  },
  {
   "cell_type": "code",
   "execution_count": 2,
   "id": "5ed4b4b7",
   "metadata": {},
   "outputs": [
    {
     "data": {
      "text/html": [
       "<div>\n",
       "<style scoped>\n",
       "    .dataframe tbody tr th:only-of-type {\n",
       "        vertical-align: middle;\n",
       "    }\n",
       "\n",
       "    .dataframe tbody tr th {\n",
       "        vertical-align: top;\n",
       "    }\n",
       "\n",
       "    .dataframe thead th {\n",
       "        text-align: right;\n",
       "    }\n",
       "</style>\n",
       "<table border=\"1\" class=\"dataframe\">\n",
       "  <thead>\n",
       "    <tr style=\"text-align: right;\">\n",
       "      <th></th>\n",
       "      <th>demographic_category</th>\n",
       "      <th>demographic_value</th>\n",
       "      <th>total_cases</th>\n",
       "      <th>percent_cases</th>\n",
       "      <th>deaths</th>\n",
       "      <th>percent_deaths</th>\n",
       "      <th>percent_of_ca_population</th>\n",
       "      <th>report_date</th>\n",
       "    </tr>\n",
       "  </thead>\n",
       "  <tbody>\n",
       "    <tr>\n",
       "      <th>0</th>\n",
       "      <td>Age Group</td>\n",
       "      <td>0-17</td>\n",
       "      <td>855</td>\n",
       "      <td>2.3</td>\n",
       "      <td>0</td>\n",
       "      <td>0.0</td>\n",
       "      <td>22.5</td>\n",
       "      <td>2020-04-22</td>\n",
       "    </tr>\n",
       "    <tr>\n",
       "      <th>1</th>\n",
       "      <td>Age Group</td>\n",
       "      <td>0-17</td>\n",
       "      <td>936</td>\n",
       "      <td>2.4</td>\n",
       "      <td>0</td>\n",
       "      <td>0.0</td>\n",
       "      <td>22.5</td>\n",
       "      <td>2020-04-23</td>\n",
       "    </tr>\n",
       "    <tr>\n",
       "      <th>2</th>\n",
       "      <td>Age Group</td>\n",
       "      <td>0-17</td>\n",
       "      <td>1011</td>\n",
       "      <td>2.5</td>\n",
       "      <td>0</td>\n",
       "      <td>0.0</td>\n",
       "      <td>22.5</td>\n",
       "      <td>2020-04-24</td>\n",
       "    </tr>\n",
       "    <tr>\n",
       "      <th>3</th>\n",
       "      <td>Age Group</td>\n",
       "      <td>0-17</td>\n",
       "      <td>1039</td>\n",
       "      <td>2.5</td>\n",
       "      <td>0</td>\n",
       "      <td>0.0</td>\n",
       "      <td>22.5</td>\n",
       "      <td>2020-04-25</td>\n",
       "    </tr>\n",
       "    <tr>\n",
       "      <th>4</th>\n",
       "      <td>Age Group</td>\n",
       "      <td>0-17</td>\n",
       "      <td>1085</td>\n",
       "      <td>2.5</td>\n",
       "      <td>0</td>\n",
       "      <td>0.0</td>\n",
       "      <td>22.5</td>\n",
       "      <td>2020-04-26</td>\n",
       "    </tr>\n",
       "  </tbody>\n",
       "</table>\n",
       "</div>"
      ],
      "text/plain": [
       "  demographic_category demographic_value  total_cases  percent_cases  deaths  \\\n",
       "0            Age Group              0-17          855            2.3       0   \n",
       "1            Age Group              0-17          936            2.4       0   \n",
       "2            Age Group              0-17         1011            2.5       0   \n",
       "3            Age Group              0-17         1039            2.5       0   \n",
       "4            Age Group              0-17         1085            2.5       0   \n",
       "\n",
       "   percent_deaths  percent_of_ca_population report_date  \n",
       "0             0.0                      22.5  2020-04-22  \n",
       "1             0.0                      22.5  2020-04-23  \n",
       "2             0.0                      22.5  2020-04-24  \n",
       "3             0.0                      22.5  2020-04-25  \n",
       "4             0.0                      22.5  2020-04-26  "
      ]
     },
     "execution_count": 2,
     "metadata": {},
     "output_type": "execute_result"
    }
   ],
   "source": [
    "# create dataframe from csv file of covid-19 cases\n",
    "covid_df = pd.read_csv('covid19casesdemographics.csv',sep=',')\n",
    "\n",
    "# reassign index\n",
    "# row_index = 'demographic_category'\n",
    "# covid_df = covid_df.set_index(row_index)\n",
    "covid_df.head()"
   ]
  },
  {
   "cell_type": "markdown",
   "id": "dbf18080",
   "metadata": {},
   "source": [
    "### Error Handling"
   ]
  },
  {
   "cell_type": "code",
   "execution_count": 3,
   "id": "20a7ffef",
   "metadata": {},
   "outputs": [],
   "source": [
    "# test if the covid data includes all demographic categories\n",
    "try:\n",
    "    assert covid_df.shape[0] == 13248, 'Dataset incomplete.'\n",
    "except Exception as msg:\n",
    "    print(msg)"
   ]
  },
  {
   "cell_type": "markdown",
   "id": "81818f07",
   "metadata": {},
   "source": [
    "## Data Visualization\n",
    "Now we will visualize any potential trends found between a demographic category or value as well as other categories, including total & percent cases, total & percent deaths, and percent California population."
   ]
  },
  {
   "cell_type": "code",
   "execution_count": 4,
   "id": "e79f343f",
   "metadata": {},
   "outputs": [
    {
     "data": {
      "text/html": [
       "<div>\n",
       "<style scoped>\n",
       "    .dataframe tbody tr th:only-of-type {\n",
       "        vertical-align: middle;\n",
       "    }\n",
       "\n",
       "    .dataframe tbody tr th {\n",
       "        vertical-align: top;\n",
       "    }\n",
       "\n",
       "    .dataframe thead th {\n",
       "        text-align: right;\n",
       "    }\n",
       "</style>\n",
       "<table border=\"1\" class=\"dataframe\">\n",
       "  <thead>\n",
       "    <tr style=\"text-align: right;\">\n",
       "      <th></th>\n",
       "      <th>demographic_category</th>\n",
       "      <th>total_cases</th>\n",
       "      <th>percent_cases</th>\n",
       "      <th>deaths</th>\n",
       "      <th>percent_deaths</th>\n",
       "      <th>percent_of_ca_population</th>\n",
       "      <th>report_date</th>\n",
       "    </tr>\n",
       "    <tr>\n",
       "      <th>demographic_value</th>\n",
       "      <th></th>\n",
       "      <th></th>\n",
       "      <th></th>\n",
       "      <th></th>\n",
       "      <th></th>\n",
       "      <th></th>\n",
       "      <th></th>\n",
       "    </tr>\n",
       "  </thead>\n",
       "  <tbody>\n",
       "    <tr>\n",
       "      <th>0-17</th>\n",
       "      <td>Age Group</td>\n",
       "      <td>855</td>\n",
       "      <td>2.3</td>\n",
       "      <td>0</td>\n",
       "      <td>0.0</td>\n",
       "      <td>22.5</td>\n",
       "      <td>2020-04-22</td>\n",
       "    </tr>\n",
       "    <tr>\n",
       "      <th>0-17</th>\n",
       "      <td>Age Group</td>\n",
       "      <td>936</td>\n",
       "      <td>2.4</td>\n",
       "      <td>0</td>\n",
       "      <td>0.0</td>\n",
       "      <td>22.5</td>\n",
       "      <td>2020-04-23</td>\n",
       "    </tr>\n",
       "    <tr>\n",
       "      <th>0-17</th>\n",
       "      <td>Age Group</td>\n",
       "      <td>1011</td>\n",
       "      <td>2.5</td>\n",
       "      <td>0</td>\n",
       "      <td>0.0</td>\n",
       "      <td>22.5</td>\n",
       "      <td>2020-04-24</td>\n",
       "    </tr>\n",
       "    <tr>\n",
       "      <th>0-17</th>\n",
       "      <td>Age Group</td>\n",
       "      <td>1039</td>\n",
       "      <td>2.5</td>\n",
       "      <td>0</td>\n",
       "      <td>0.0</td>\n",
       "      <td>22.5</td>\n",
       "      <td>2020-04-25</td>\n",
       "    </tr>\n",
       "    <tr>\n",
       "      <th>0-17</th>\n",
       "      <td>Age Group</td>\n",
       "      <td>1085</td>\n",
       "      <td>2.5</td>\n",
       "      <td>0</td>\n",
       "      <td>0.0</td>\n",
       "      <td>22.5</td>\n",
       "      <td>2020-04-26</td>\n",
       "    </tr>\n",
       "  </tbody>\n",
       "</table>\n",
       "</div>"
      ],
      "text/plain": [
       "                  demographic_category  total_cases  percent_cases  deaths  \\\n",
       "demographic_value                                                            \n",
       "0-17                         Age Group          855            2.3       0   \n",
       "0-17                         Age Group          936            2.4       0   \n",
       "0-17                         Age Group         1011            2.5       0   \n",
       "0-17                         Age Group         1039            2.5       0   \n",
       "0-17                         Age Group         1085            2.5       0   \n",
       "\n",
       "                   percent_deaths  percent_of_ca_population report_date  \n",
       "demographic_value                                                        \n",
       "0-17                          0.0                      22.5  2020-04-22  \n",
       "0-17                          0.0                      22.5  2020-04-23  \n",
       "0-17                          0.0                      22.5  2020-04-24  \n",
       "0-17                          0.0                      22.5  2020-04-25  \n",
       "0-17                          0.0                      22.5  2020-04-26  "
      ]
     },
     "execution_count": 4,
     "metadata": {},
     "output_type": "execute_result"
    }
   ],
   "source": [
    "# import age # not sure if useful atm\n",
    "\n",
    "# reassign index to demographic value\n",
    "row_index = 'demographic_value'\n",
    "covid_df = covid_df.set_index(row_index)\n",
    "covid_df.head()"
   ]
  },
  {
   "cell_type": "markdown",
   "id": "424446d5",
   "metadata": {},
   "source": [
    "### Determining total cases by age group, gender, and ethnicity"
   ]
  },
  {
   "cell_type": "code",
   "execution_count": 5,
   "id": "f49338d2",
   "metadata": {},
   "outputs": [
    {
     "name": "stdout",
     "output_type": "stream",
     "text": [
      "Total covid-19 cases in 0-17 years: 373683364\n",
      "Total covid-19 cases in 18-49 years: 1373982737.0\n",
      "Total covid-19 cases in 50-64 years: 438401811.0\n",
      "Total covid-19 cases in 65+ years: 373683364\n"
     ]
    }
   ],
   "source": [
    "# note: all age categories have 693 reports\n",
    "\n",
    "# age range 0-17 \n",
    "covid_df.loc['0-17']\n",
    "age017_sum = np.sum(covid_df.iloc[0:693,1])\n",
    "print('Total covid-19 cases in 0-17 years: '+ age017_sum.astype(str))\n",
    "\n",
    "# age range 18-49\n",
    "covid_df.loc['18-49']\n",
    "age1849_sum = np.sum(covid_df.iloc[693:1386,1]).astype(float)\n",
    "print('Total covid-19 cases in 18-49 years: '+ age1849_sum.astype(str))\n",
    "\n",
    "# age range 50-64\n",
    "covid_df.loc['50-64']\n",
    "age5064_sum = np.sum(covid_df.iloc[1386:2079,1]).astype(float)\n",
    "print('Total covid-19 cases in 50-64 years: '+ age5064_sum.astype(str))\n",
    "\n",
    "# age range 65+\n",
    "covid_df.loc['65+']\n",
    "age65plus_sum = np.sum(covid_df.iloc[2079:2772,1]).astype(float)\n",
    "print('Total covid-19 cases in 65+ years: '+ age017_sum.astype(str))"
   ]
  },
  {
   "cell_type": "code",
   "execution_count": 6,
   "id": "8697c8ea",
   "metadata": {},
   "outputs": [
    {
     "name": "stdout",
     "output_type": "stream",
     "text": [
      "Total covid-19 cases in females: 1239226198.0\n",
      "Total covid-19 cases in males: 1153169140.0\n"
     ]
    }
   ],
   "source": [
    "# note: all gender categories have 693 reports\n",
    "\n",
    "# gender: female\n",
    "covid_df.loc['Female']\n",
    "female_sum = np.sum(covid_df.iloc[4158:4851,1]).astype(float)\n",
    "print('Total covid-19 cases in females: ' + female_sum.astype(str))\n",
    "\n",
    "# gender: male\n",
    "covid_df.loc['Male']\n",
    "male_sum = np.sum(covid_df.iloc[4851:5544,1]).astype(float)\n",
    "print('Total covid-19 cases in males: ' + male_sum.astype(str))"
   ]
  },
  {
   "cell_type": "code",
   "execution_count": 7,
   "id": "c6acf7ff",
   "metadata": {},
   "outputs": [
    {
     "name": "stdout",
     "output_type": "stream",
     "text": [
      "Total covid-19 cases in American Indian or Alaska Native: 7616115.0\n",
      "Total covid-19 cases in Asian: 149833493.0\n",
      "Total covid-19 cases in Black: 93799260.0\n",
      "Total covid-19 cases in Latino: 997465365.0\n",
      "Total covid-19 cases in Multi-Race: 26701811.0\n",
      "Total covid-19 cases in Native Hawaiian and other Pacific Islander: 12416508.0\n",
      "Total covid-19 cases in Other: 208131744.0\n",
      "Total covid-19 cases in White: 435342105.0\n"
     ]
    }
   ],
   "source": [
    "# note: all ethnicity categories have 702 reports\n",
    "\n",
    "# ethnicity: American Indian or Alaska Native\n",
    "covid_df.loc['American Indian or Alaska Native']\n",
    "AIAN_sum = np.sum(covid_df.iloc[6930:7632,1]).astype(float)\n",
    "print('Total covid-19 cases in American Indian or Alaska Native: ' + AIAN_sum.astype(str))\n",
    "\n",
    "# ethnicity: Asian\n",
    "covid_df.loc['Asian']\n",
    "asian_sum = np.sum(covid_df.iloc[7632:8334,1]).astype(float)\n",
    "print('Total covid-19 cases in Asian: ' + asian_sum.astype(str))\n",
    "\n",
    "# ethnicity: Black\n",
    "covid_df.loc['Black']\n",
    "black_sum = np.sum(covid_df.iloc[8334:9036,1]).astype(float)\n",
    "print('Total covid-19 cases in Black: ' + black_sum.astype(str))\n",
    "\n",
    "# ethnicity: Latino\n",
    "covid_df.loc['Latino']\n",
    "latino_sum = np.sum(covid_df.iloc[9036:9738,1]).astype(float)\n",
    "print('Total covid-19 cases in Latino: ' + latino_sum.astype(str))\n",
    "\n",
    "# ethnicity: Multi-Race\n",
    "covid_df.loc['Multi-Race']\n",
    "multi_sum = np.sum(covid_df.iloc[9738:10440,1]).astype(float)\n",
    "print('Total covid-19 cases in Multi-Race: ' + multi_sum.astype(str))\n",
    "\n",
    "# ethnicity: Native Hawaiian and other Pacific Islander\n",
    "covid_df.loc['Native Hawaiian and other Pacific Islander']\n",
    "NHPI_sum = np.sum(covid_df.iloc[10440:11142,1]).astype(float)\n",
    "print('Total covid-19 cases in Native Hawaiian and other Pacific Islander: ' + NHPI_sum.astype(str))\n",
    "\n",
    "# ethnicity: Other\n",
    "covid_df.loc['Other']\n",
    "other_sum = np.sum(covid_df.iloc[11142:11844,1]).astype(float)\n",
    "print('Total covid-19 cases in Other: ' + other_sum.astype(str))\n",
    "\n",
    "# ethnicity: White\n",
    "covid_df.loc['White']\n",
    "white_sum = np.sum(covid_df.iloc[12546:,1]).astype(float)\n",
    "print('Total covid-19 cases in White: ' + white_sum.astype(str))"
   ]
  },
  {
   "cell_type": "markdown",
   "id": "230543d8",
   "metadata": {},
   "source": [
    "### Total COVID-19 cases vs. Age"
   ]
  },
  {
   "cell_type": "code",
   "execution_count": 8,
   "id": "8bc9290c",
   "metadata": {},
   "outputs": [
    {
     "data": {
      "image/png": "[encoded data removed]",
      "text/plain": [
       "<Figure size 432x288 with 1 Axes>"
      ]
     },
     "metadata": {
      "needs_background": "light"
     },
     "output_type": "display_data"
    }
   ],
   "source": [
    "age_groups = ['0-17','18-49','50-64','65+']\n",
    "total_cases = [age017_sum,age1849_sum,age5064_sum,age65plus_sum]\n",
    "\n",
    "plt.bar(age_groups,total_cases)\n",
    "plt.title('Total COVID-19 cases vs. Age')\n",
    "plt.xlabel('Age groups')\n",
    "plt.ylabel('Total cases reported')\n",
    "plt.ylim([0*1e9,1.6*1e9])\n",
    "plt.show()"
   ]
  },
  {
   "cell_type": "markdown",
   "id": "21010fa3",
   "metadata": {},
   "source": [
    "### Total COVID-19 cases vs. Gender"
   ]
  },
  {
   "cell_type": "code",
   "execution_count": 9,
   "id": "ec4912b5",
   "metadata": {},
   "outputs": [
    {
     "data": {
      "image/png": "[encoded data removed]",
      "text/plain": [
       "<Figure size 432x288 with 1 Axes>"
      ]
     },
     "metadata": {
      "needs_background": "light"
     },
     "output_type": "display_data"
    }
   ],
   "source": [
    "gender = ['Male','Female']\n",
    "total_cases = [male_sum,female_sum]\n",
    "\n",
    "plt.bar(gender,total_cases)\n",
    "plt.title('Total COVID-19 cases vs. Gender')\n",
    "plt.xlabel('Gender')\n",
    "plt.ylabel('Total cases reported')\n",
    "plt.show()"
   ]
  },
  {
   "cell_type": "markdown",
   "id": "da341816",
   "metadata": {},
   "source": [
    "### Total COVID-19 cases vs. Ethnicity"
   ]
  },
  {
   "cell_type": "code",
   "execution_count": null,
   "id": "3e5b5ad8",
   "metadata": {},
   "outputs": [],
   "source": [
    "ethnicity = ['American Indian\\nor\\nAlaska Native','Asian','Black','Latino','Multi-Race','Native Hawaiian\\nand other\\nPacific Islander','White','Other']\n",
    "total_cases = [AIAN_sum,asian_sum,black_sum,latino_sum,multi_sum,NHPI_sum,white_sum,other_sum]\n",
    "\n",
    "ax = plt.bar(ethnicity,total_cases)\n",
    "plt.title('Total COVID-19 cases vs. Ethnicity')\n",
    "plt.xlabel('Ethnicity')\n",
    "plt.ylabel('Total cases reported')\n",
    "plt.xticks(rotation=90)\n",
    "plt.tick_params(axis='x',labelsize=9)\n",
    "plt.ylim([0*1e9,1.2*1e9])\n",
    "\n",
    "plt.show()"
   ]
  },
  {
   "cell_type": "markdown",
   "id": "4e491b4e",
   "metadata": {},
   "source": [
    "### Total COVID-19 cases vs. Time by age groups"
   ]
  },
  {
   "cell_type": "code",
   "execution_count": null,
   "id": "5a5e491e",
   "metadata": {},
   "outputs": [],
   "source": [
    "covid_df = pd.read_csv('covid19casesdemographics.csv',sep=',',parse_dates=['report_date'])\n",
    "\n",
    "# creating new column for report date with format YYYY-MM\n",
    "covid_df['year_month'] = covid_df['report_date'].dt.date\n",
    "covid_df['year_month'] = covid_df['report_date'].dt.normalize()\n",
    "\n",
    "# changing month from number MM to abbreviated month\n",
    "for i in covid_df['year_month']:\n",
    "    covid_df['year'] = covid_df['report_date'].dt.year\n",
    "    covid_df['month_name_short'] = covid_df['report_date'].dt.month_name().str[:3]\n",
    "    covid_df['year_month'] = covid_df['year'].astype(str) + ' ' + covid_df['month_name_short'].astype(str)\n",
    "\n",
    "print(covid_df.info())\n",
    "covid_df.head()"
   ]
  },
  {
   "cell_type": "code",
   "execution_count": null,
   "id": "c02c26c8",
   "metadata": {},
   "outputs": [],
   "source": [
    "row_index = 'year_month'\n",
    "covid_df = covid_df.set_index(row_index)\n",
    "fig,ax = plt.subplots(figsize=(8,5))\n",
    "\n",
    "age017_1 = np.sum(covid_df.iloc['2020 Apr':'2020 Oct',2]).astype(float)\n",
    "# age1849 = \n",
    "# age5064 = \n",
    "# age65plus = \n",
    "\n",
    "# ax.plot((covid_df[]))\n",
    "\n",
    "ax.set_xlabel('Time (year month)')\n",
    "ax.set_ylabel('Total cases')\n",
    "ax.set_title('Total COVID-19 cases vs. Time by age groups')\n",
    "ax.legend(['0-17 years','18-49 years','50-64 years','65+ years'])\n",
    "\n",
    "plt.show()\n",
    "covid_df.head()"
   ]
  },
  {
   "cell_type": "markdown",
   "id": "5afbc48d",
   "metadata": {},
   "source": [
    "### Missing and Unknown Data"
   ]
  },
  {
   "cell_type": "code",
   "execution_count": null,
   "id": "440fcb27",
   "metadata": {},
   "outputs": [],
   "source": [
    "# CHHS data has \"Missing\" (for gender) and \"Unknown\" (for race/ethnicity) for some of the demographic values. \n",
    "\n",
    "covid_df.loc['Missing'] #total reports=278\n",
    "missing_1_sum = np.sum(covid_df.iloc[2772:3050,1]).astype(float)\n",
    "covid_df.loc['missing'] #total reports=415\n",
    "missing_2_sum = np.sum(covid_df.iloc[3743:4158,1]).astype(float)\n",
    "total_missing_data = missing_1_sum + missing_2_sum\n",
    "print('Total missing (for gender) data: '+total_missing_data.astype(str))\n",
    "\n",
    "covid_df.loc['Unknown'] #total reports=693\n",
    "unknown_sum = np.sum(covid_df.iloc[6237:6930,1]).astype(float)\n",
    "print('Total unknown (for race/ethnicity) data: '+unknown_sum.astype(str))"
   ]
  },
  {
   "cell_type": "code",
   "execution_count": null,
   "id": "93ffa87c",
   "metadata": {},
   "outputs": [],
   "source": []
  },
  {
   "cell_type": "markdown",
   "id": "6388880b",
   "metadata": {},
   "source": [
    "## Reflection"
   ]
  },
  {
   "cell_type": "markdown",
   "id": "b379243b",
   "metadata": {},
   "source": [
    "### Zoya Chih\n",
    "...\n",
    "### Anny Li\n",
    "...\n",
    "### Aina Huang\n",
    "..."
   ]
  }
 ],
 "metadata": {
  "kernelspec": {
   "display_name": "Python 3 (ipykernel)",
   "language": "python",
   "name": "python3"
  },
  "language_info": {
   "codemirror_mode": {
    "name": "ipython",
    "version": 3
   },
   "file_extension": ".py",
   "mimetype": "text/x-python",
   "name": "python",
   "nbconvert_exporter": "python",
   "pygments_lexer": "ipython3",
   "version": "3.9.5"
  }
 },
 "nbformat": 4,
 "nbformat_minor": 5
}
